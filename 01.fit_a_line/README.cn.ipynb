{
  "cells": [
    {
      "cell_type": "markdown",
      "metadata": {},
      "source": [
        "# ���Իع�\n",
        "�����ǴӾ�������Իع飨Linear Regression \\[[1](#�ο�����)\\]��ģ�Ϳ�ʼ��ݽ̡̳�����һ����㽫ʹ����ʵ�����ݼ�������һ������Ԥ��ģ�ͣ������˽⵽����ѧϰ�е�������Ҫ���\n",
        "\n",
        "���̳�Դ����Ŀ¼��[book/fit_a_line](https://github.com/PaddlePaddle/book/tree/develop/01.fit_a_line)�� ����ʹ����ο�PaddlePaddle[��װ�̳�](https://github.com/PaddlePaddle/book/blob/develop/README.cn.md#�����Ȿ��)������������ο����̵̳�[��Ƶ����](http://bit.baidu.com/course/detail/id/137.html)��\n",
        "\n",
        "## ��������\n",
        "����һ����СΪ$n$�����ݼ�  ${\\{y_{i}, x_{i1}, ..., x_{id}\\}}_{i=1}^{n}$������$x_{i1}, \\ldots, x_{id}$�ǵ�$i$������$d$�������ϵ�ȡֵ��$y_i$�Ǹ�������Ԥ���Ŀ�ꡣ���Իع�ģ�ͼ���Ŀ��$y_i$���Ա����Լ�����������������\n",
        "\n",
        "$$y_i = \\omega_1x_{i1} + \\omega_2x_{i2} + \\ldots + \\omega_dx_{id} + b,  i=1,\\ldots,n$$\n",
        "\n",
        "���磬�����ǽ�Ҫ��ģ�ķ���Ԥ�������$x_{ij}$����������$i$�ĸ������ԣ����緿��ĸ�������ΧѧУ��ҽԺ�ĸ�������ͨ״���ȣ����� $y_i$�Ƿ��ݵļ۸�\n",
        "\n",
        "�����������������ʵ�ڹ��ڼ��ˣ����������ʵ��ϵ���������Եġ����������Իع�ģ������ʽ�򵥺����ڽ�ģ�������ŵ㣬����ʵ�������еõ��˴�����Ӧ�á��ܶྭ���ͳ��ѧϰ������ѧϰ�鼮\\[[2,3,4](#�ο�����)\\]Ҳѡ�������ģ�Ͷ��������ص㽲�⡣\n",
        "\n",
        "## Ч��չʾ\n",
        "����ʹ�ô�[UCI Housing Data Set](https://archive.ics.uci.edu/ml/datasets/Housing)��õĲ�ʿ�ٷ������ݼ�����ģ�͵�ѵ����Ԥ�⡣�����ɢ��ͼչʾ��ʹ��ģ�ͶԲ��ַ��ݼ۸���е�Ԥ�⡣���У�ÿ����ĺ������ʾͬһ�෿����ʵ�۸����λ�����������ʾ���Իع�ģ�͸�������Ԥ��Ľ����������ֵ��ȫ��ȵ�ʱ��ͻ����������ϡ�����ģ��Ԥ���Խ׼ȷ�����������Խ����\n",
        "\u003cp align=\"center\"\u003e\n",
        "    \u003cimg src = \"image/predictions.png\" width=400\u003e\u003cbr/\u003e\n",
        "    ͼ1. Ԥ��ֵ V.S. ��ʵֵ\n",
        "\u003c/p\u003e\n",
        "\n",
        "## ģ�͸���\n",
        "\n",
        "### ģ�Ͷ���\n",
        "\n",
        "�ڲ�ʿ�ٷ������ݼ��У��ͷ�����ص�ֵ����14����ǰ13����������������صĸ�����Ϣ����ģ���е� $x_i$�����һ��ֵΪ����ҪԤ��ĸ��෿�ݼ۸����λ������ģ���е� $y_i$����ˣ����ǵ�ģ�;Ϳ��Ա�ʾ�ɣ�\n",
        "\n",
        "$$\\hat{Y} = \\omega_1X_{1} + \\omega_2X_{2} + \\ldots + \\omega_{13}X_{13} + b$$\n",
        "\n",
        "$\\hat{Y}$ ��ʾģ�͵�Ԥ��������������ʵֵ$Y$���֡�ģ��Ҫѧϰ�Ĳ�������$\\omega_1, \\ldots, \\omega_{13}, b$��\n",
        "\n",
        "����ģ�ͺ�������Ҫ��ģ��һ���Ż�Ŀ�꣬ʹ��ѧ���Ĳ����ܹ���Ԥ��ֵ$\\hat{Y}$�����ܵؽӽ���ʵֵ$Y$����������������ʧ������[Loss Function](https://en.wikipedia.org/wiki/Loss_function)����Cost Function�������� ��������һ������������Ŀ��ֵ$y_{i}$��ģ�͸�����Ԥ��ֵ$\\hat{y_{i}}$����ʧ�������һ���Ǹ���ʵֵ�����ʵֵͨ��������ӳģ�����Ĵ�С��\n",
        "\n",
        "�������Իع�ģ���������������ʧ�������Ǿ�����Mean Squared Error�� [MSE](https://en.wikipedia.org/wiki/Mean_squared_error)���ˣ�������ʽ�ǣ�\n",
        "\n",
        "$$MSE=\\frac{1}{n}\\sum_{i=1}^{n}{(\\hat{Y_i}-Y_i)}^2$$\n",
        "\n",
        "������һ����СΪ$n$�Ĳ��Լ���$MSE$��$n$������Ԥ�������ƽ���ľ�ֵ��\n",
        "\n",
        "### ѵ������\n",
        "\n",
        "�����ģ�ͽṹ֮������Ҫͨ�����¼����������ģ��ѵ��\n",
        " 1. ��ʼ�����������а���Ȩ��$\\omega_i$��ƫ��$b$��������г�ʼ������0��ֵ��1�����\n",
        " 2. �������򴫲����������������ʧ������\n",
        " 3. ������ʧ�������з������� ��[backpropagation](https://en.wikipedia.org/wiki/Backpropagation)�������������������������ǰ����, �����������еĲ�����\n",
        " 4. �ظ�2~3���裬ֱ������ѵ�����ﵽ�涨�ĳ̶Ȼ�ѵ���ִδﵽ�趨ֵ��\n",
        "\n",
        "## ���ݼ�\n",
        "\n",
        "### ���ݼ��ӿڵķ�װ\n",
        "���ȼ�����Ҫ�İ�\n",
        "\n"
      ]
    },
    {
      "cell_type": "code",
      "metadata": {
        "editable": true
      },
      "source": [
        "import paddle.v2 as paddle\n",
        "import paddle.v2.dataset.uci_housing as uci_housing\n"
      ],
      "outputs": [
        {
          "name": "stdout",
          "output_type": "stream",
          "text": [
            "\n"
          ]
        }
      ],
      "execution_count": 1
    },
    {
      "cell_type": "markdown",
      "metadata": {},
      "source": [
        "\n",
        "����ͨ��uci_housingģ�����������ݼ���[UCI Housing Data Set](https://archive.ics.uci.edu/ml/datasets/Housing)\n",
        "\n",
        "���У���uci_housingģ���з�װ�ˣ�\n",
        "\n",
        "1. �������صĹ��̡��������ݱ�����~/.cache/paddle/dataset/uci_housing/housing.data��\n",
        "2. [����Ԥ����](#����Ԥ����)�Ĺ��̡�\n",
        "\n",
        "\n",
        "### ���ݼ�����\n",
        "������ݼ���506�У�ÿ�а����˲�ʿ�ٽ�����һ�෿�ݵ������Ϣ�����෿�ݼ۸����λ�������ά���Ե��������£�\n",
        "\n",
        "| ������ | ���� | ���� |\n",
        "| ------| ------ | ------ |\n",
        "| CRIM | ������˾������� | ����ֵ |\n",
        "| ZN | ռ���������25,000ƽ���յ�סլ�õر��� | ����ֵ |\n",
        "| INDUS | ��������ҵ�õر��� | ����ֵ |\n",
        "| CHAS | �Ƿ��ڽ� Charles River  | ��ɢֵ��1=�ڽ���0=���ڽ� |\n",
        "| NOX | һ������Ũ�� | ����ֵ |\n",
        "| RM | ÿ�����ݵ�ƽ���ͷ��� | ����ֵ |\n",
        "| AGE | 1940��֮ǰ���ɵ����õ�λ���� | ����ֵ |\n",
        "| DIS | ����ʿ��5����ҵ���ĵļ�Ȩ���� | ����ֵ |\n",
        "| RAD | ������·�Ŀɴ���ָ�� | ����ֵ |\n",
        "| TAX | ȫֵ�Ʋ�˰�� | ����ֵ |\n",
        "| PTRATIO | ѧ�����ʦ�ı��� | ����ֵ |\n",
        "| B | 1000(BK - 0.63)^2������BKΪ����ռ�� | ����ֵ |\n",
        "| LSTAT | ��������Ⱥռ�� | ����ֵ |\n",
        "| MEDV | ͬ�෿�ݼ۸����λ�� | ����ֵ |\n",
        "\n",
        "### ����Ԥ����\n",
        "#### ����ֵ����ɢֵ\n",
        "�۲�һ�����ݣ����ǵĵ�һ�������ǣ����е�13ά�����У���12ά������ֵ��1ά����ɢֵ��CHAS������ɢֵ��ȻҲ��ʹ������0��1��2���������ֱ�ʾ�������京��������ֵ�ǲ�ͬ�ģ���Ϊ����Ĳ�ֵû��ʵ�����塣���磬������0��1��2���ֱ��ʾ��ɫ����ɫ����ɫ�Ļ������ǲ��������˵����ɫ�ͺ�ɫ���ȡ���ɫ�ͺ�ɫ���ľ����Զ������ͨ����һ����$d$������ȡֵ����ɢ���ԣ����ǻὫ����תΪ$d$��ȡֵΪ0��1�Ķ�ֵ���Ի��߽�ÿ������ȡֵӳ��Ϊһ����ά������������������ԣ���ΪCHAS�������һ����ֵ���ԣ���ʡȥ������鷳��\n",
        "\n",
        "#### ���ԵĹ�һ��\n",
        "����һ���Լӹ۲켴�ɷ��ֵ���ʵ�ǣ���ά���Ե�ȡֵ��Χ���ܴ���ͼ2��ʾ�������磬����B��ȡֵ��Χ��[0.32, 396.90]��������NOX��ȡֵ��Χ��[0.3850, 0.8170]�������Ҫ�õ�һ�������Ĳ���-��һ����normalization���ˡ���һ����Ŀ���ǰѸ�λ���Ե�ȡֵ��Χ�������������䣬����[-0.5,0.5]����������ʹ��һ�ֺܳ����Ĳ���������������ֵ��Ȼ�����ԭȡֵ��Χ��\n",
        "\n",
        "����һ������ [Feature scaling](https://en.wikipedia.org/wiki/Feature_scaling)������������3�����ɣ�\n",
        "- ������С����ֵ��Χ�ᵼ�¼���ʱ�ĸ�����������硣\n",
        "- ��ͬ����ֵ��Χ�ᵼ�²�ͬ���Զ�ģ�͵���Ҫ�Բ�ͬ��������ѵ���ĳ�ʼ�׶���ˣ�������������ļ��賣���ǲ�����ġ������Ż��Ĺ���������ѣ�ʹѵ��ʱ����ļӳ���\n",
        "- �ܶ�Ļ���ѧϰ����/ģ�ͣ�����L1��L2����������ռ�ģ��-Vector Space Model�������������ļ��裺���е�����ȡֵ���������0Ϊ��ֵ��ȡֵ��Χ����ġ�\n",
        "\n",
        "\u003cp align=\"center\"\u003e\n",
        "    \u003cimg src = \"image/ranges.png\" width=550\u003e\u003cbr/\u003e\n",
        "    ͼ2. ��ά���Ե�ȡֵ��Χ\n",
        "\u003c/p\u003e\n",
        "\n",
        "#### ����ѵ��������Լ�\n",
        "���ǽ����ݼ��ָ�Ϊ���ݣ�һ�����ڵ���ģ�͵Ĳ�����������ģ�͵�ѵ����ģ����������ݼ��ϵ�����Ϊ**ѵ�����**������һ�ݱ��������ԣ�ģ����������ݼ��ϵ�����Ϊ**�������**������ѵ��ģ�͵�Ŀ����Ϊ��ͨ����ѵ���������ҵ�������Ԥ��δ֪�������ݣ����Բ�������Ǹ��ܷ�ӳģ�ͱ��ֵ�ָ�ꡣ�ָ����ݵı���Ҫ���ǵ��������أ������ѵ�����ݻή�Ͳ������Ƶķ���Ӷ��õ������ŵ�ģ�ͣ�������Ĳ������ݻή�Ͳ������ķ���Ӷ��õ������ŵĲ���������������������õķָ����Ϊ$8:2$\n",
        "\n",
        "\n",
        "�ڸ����ӵ�ģ��ѵ�������У��������������ʹ��һ�����ݼ�����֤������Ϊ���ӵ�ģ���г�������һЩ��������[Hyperparameter](https://en.wikipedia.org/wiki/Hyperparameter_optimization)����Ҫ���ڣ��������ǻ᳢�Զ��ֳ�������������ֱ�ѵ�����ģ�ͣ�Ȼ��Ա���������֤���ϵı���ѡ�������õ�һ�鳬����������ʹ�����������ѵ����ģ���ڲ��Լ����������������ڱ���ѵ����ģ�ͱȽϼ򵥣��������Һ��Ե�������̡�\n",
        "\n",
        "## ѵ��\n",
        "\n",
        "`fit_a_line/trainer.py`��ʾ��ѵ����������̡�\n",
        "\n",
        "### ��ʼ��PaddlePaddle\n",
        "\n"
      ]
    },
    {
      "cell_type": "code",
      "metadata": {
        "editable": true
      },
      "source": [
        "paddle.init(use_gpu=False, trainer_count=1)\n"
      ],
      "outputs": [
        {
          "name": "stdout",
          "output_type": "stream",
          "text": [
            "\n"
          ]
        }
      ],
      "execution_count": 1
    },
    {
      "cell_type": "markdown",
      "metadata": {},
      "source": [
        "\n",
        "### ģ������\n",
        "\n",
        "���Իع��ģ����ʵ����һ���������Լ������linear activation��`LinearActivation`����ȫ���Ӳ㣨fully-connected layer��`fc_layer`����\n",
        "\n"
      ]
    },
    {
      "cell_type": "code",
      "metadata": {
        "editable": true
      },
      "source": [
        "x = paddle.layer.data(name='x', type=paddle.data_type.dense_vector(13))\n",
        "y_predict = paddle.layer.fc(input=x,\n",
        "                                size=1,\n",
        "                                act=paddle.activation.Linear())\n",
        "y = paddle.layer.data(name='y', type=paddle.data_type.dense_vector(1))\n",
        "cost = paddle.layer.square_error_cost(input=y_predict, label=y)\n"
      ],
      "outputs": [
        {
          "name": "stdout",
          "output_type": "stream",
          "text": [
            "\n"
          ]
        }
      ],
      "execution_count": 1
    },
    {
      "cell_type": "markdown",
      "metadata": {},
      "source": [
        "\n",
        "### ������������\n",
        "\n"
      ]
    },
    {
      "cell_type": "code",
      "metadata": {
        "editable": true
      },
      "source": [
        "# Save the inference topology to protobuf.\n",
        "inference_topology = paddle.topology.Topology(layers=y_predict)\n",
        "with open(\"inference_topology.pkl\", 'wb') as f:\n",
        "    inference_topology.serialize_for_inference(f)\n"
      ],
      "outputs": [
        {
          "name": "stdout",
          "output_type": "stream",
          "text": [
            "\n"
          ]
        }
      ],
      "execution_count": 1
    },
    {
      "cell_type": "markdown",
      "metadata": {},
      "source": [
        "\n",
        "### ��������\n",
        "\n"
      ]
    },
    {
      "cell_type": "code",
      "metadata": {
        "editable": true
      },
      "source": [
        "parameters = paddle.parameters.create(cost)\n"
      ],
      "outputs": [
        {
          "name": "stdout",
          "output_type": "stream",
          "text": [
            "\n"
          ]
        }
      ],
      "execution_count": 1
    },
    {
      "cell_type": "markdown",
      "metadata": {},
      "source": [
        "\n",
        "### ����Trainer\n",
        "\n"
      ]
    },
    {
      "cell_type": "code",
      "metadata": {
        "editable": true
      },
      "source": [
        "optimizer = paddle.optimizer.Momentum(momentum=0)\n",
        "\n",
        "trainer = paddle.trainer.SGD(cost=cost,\n",
        "                             parameters=parameters,\n",
        "                             update_equation=optimizer)\n"
      ],
      "outputs": [
        {
          "name": "stdout",
          "output_type": "stream",
          "text": [
            "\n"
          ]
        }
      ],
      "execution_count": 1
    },
    {
      "cell_type": "markdown",
      "metadata": {},
      "source": [
        "\n",
        "### ��ȡ�����Ҵ�ӡѵ�����м���Ϣ\n",
        "\n",
        "PaddlePaddle�ṩһ��\n",
        "[reader����](https://github.com/PaddlePaddle/Paddle/tree/develop/doc/design/reader)\n",
        "����ȡ���ݡ� Reader���ص����ݿ��԰������У�������Ҫһ��Python dict����\n",
        "���ӳ�䵽����������ݲ㡣\n",
        "\n"
      ]
    },
    {
      "cell_type": "code",
      "metadata": {
        "editable": true
      },
      "source": [
        "feeding={'x': 0, 'y': 1}\n"
      ],
      "outputs": [
        {
          "name": "stdout",
          "output_type": "stream",
          "text": [
            "\n"
          ]
        }
      ],
      "execution_count": 1
    },
    {
      "cell_type": "markdown",
      "metadata": {},
      "source": [
        "\n",
        "���⣬���ǻ������ṩһ�� event handler������ӡѵ���Ľ��ȣ�\n",
        "\n"
      ]
    },
    {
      "cell_type": "code",
      "metadata": {
        "editable": true
      },
      "source": [
        "# event_handler to print training and testing info\n",
        "def event_handler(event):\n",
        "    if isinstance(event, paddle.event.EndIteration):\n",
        "        if event.batch_id % 100 == 0:\n",
        "            print \"Pass %d, Batch %d, Cost %f\" % (\n",
        "                event.pass_id, event.batch_id, event.cost)\n",
        "\n",
        "    if isinstance(event, paddle.event.EndPass):\n",
        "        result = trainer.test(\n",
        "            reader=paddle.batch(\n",
        "                uci_housing.test(), batch_size=2),\n",
        "            feeding=feeding)\n",
        "        print \"Test %d, Cost %f\" % (event.pass_id, result.cost)\n"
      ],
      "outputs": [
        {
          "name": "stdout",
          "output_type": "stream",
          "text": [
            "\n"
          ]
        }
      ],
      "execution_count": 1
    },
    {
      "cell_type": "markdown",
      "metadata": {},
      "source": [
        "\n"
      ]
    },
    {
      "cell_type": "code",
      "metadata": {
        "editable": true
      },
      "source": [
        "# event_handler to print training and testing info\n",
        "from paddle.v2.plot import Ploter\n",
        "\n",
        "train_title = \"Train cost\"\n",
        "test_title = \"Test cost\"\n",
        "cost_ploter = Ploter(train_title, test_title)\n",
        "\n",
        "step = 0\n",
        "\n",
        "def event_handler_plot(event):\n",
        "    global step\n",
        "    if isinstance(event, paddle.event.EndIteration):\n",
        "        if step % 10 == 0:  # every 10 batches, record a train cost\n",
        "            cost_ploter.append(train_title, step, event.cost)\n",
        "\n",
        "        if step % 100 == 0: # every 100 batches, record a test cost\n",
        "            result = trainer.test(\n",
        "                reader=paddle.batch(\n",
        "                    uci_housing.test(), batch_size=2),\n",
        "                feeding=feeding)\n",
        "            cost_ploter.append(test_title, step, result.cost)\n",
        "\n",
        "        if step % 100 == 0: # every 100 batches, update cost plot\n",
        "            cost_ploter.plot()\n",
        "\n",
        "        step += 1\n",
        "\n",
        "    if isinstance(event, paddle.event.EndPass):\n",
        "        if event.pass_id % 10 == 0:\n",
        "            with open('params_pass_%d.tar' % event.pass_id, 'w') as f:\n",
        "                trainer.save_parameter_to_tar(f)\n"
      ],
      "outputs": [
        {
          "name": "stdout",
          "output_type": "stream",
          "text": [
            "\n"
          ]
        }
      ],
      "execution_count": 1
    },
    {
      "cell_type": "markdown",
      "metadata": {},
      "source": [
        "\n",
        "### ��ʼѵ��\n",
        "\n"
      ]
    },
    {
      "cell_type": "code",
      "metadata": {
        "editable": true
      },
      "source": [
        "trainer.train(\n",
        "    reader=paddle.batch(\n",
        "        paddle.reader.shuffle(\n",
        "            uci_housing.train(), buf_size=500),\n",
        "        batch_size=2),\n",
        "    feeding=feeding,\n",
        "    event_handler=event_handler_plot,\n",
        "    num_passes=30)\n"
      ],
      "outputs": [
        {
          "name": "stdout",
          "output_type": "stream",
          "text": [
            "\n"
          ]
        }
      ],
      "execution_count": 1
    },
    {
      "cell_type": "markdown",
      "metadata": {},
      "source": [
        "\n",
        "![png](./image/train_and_test.png)\n",
        "\n",
        "### Ӧ��ģ��\n",
        "\n",
        "#### 1. ���ɲ�������\n",
        "\n"
      ]
    },
    {
      "cell_type": "code",
      "metadata": {
        "editable": true
      },
      "source": [
        "test_data_creator = paddle.dataset.uci_housing.test()\n",
        "test_data = []\n",
        "test_label = []\n",
        "\n",
        "for item in test_data_creator():\n",
        "    test_data.append((item[0],))\n",
        "    test_label.append(item[1])\n",
        "    if len(test_data) == 5:\n",
        "        break\n"
      ],
      "outputs": [
        {
          "name": "stdout",
          "output_type": "stream",
          "text": [
            "\n"
          ]
        }
      ],
      "execution_count": 1
    },
    {
      "cell_type": "markdown",
      "metadata": {},
      "source": [
        "\n",
        "#### 2. �Ʋ� inference\n",
        "\n"
      ]
    },
    {
      "cell_type": "code",
      "metadata": {
        "editable": true
      },
      "source": [
        "# load parameters from tar file.\n",
        "# users can remove the comments and change the model name\n",
        "# with open('params_pass_20.tar', 'r') as f:\n",
        "#     parameters = paddle.parameters.Parameters.from_tar(f)\n",
        "\n",
        "probs = paddle.infer(\n",
        "    output_layer=y_predict, parameters=parameters, input=test_data)\n",
        "\n",
        "for i in xrange(len(probs)):\n",
        "    print \"label=\" + str(test_label[i][0]) + \", predict=\" + str(probs[i][0])\n"
      ],
      "outputs": [
        {
          "name": "stdout",
          "output_type": "stream",
          "text": [
            "\n"
          ]
        }
      ],
      "execution_count": 1
    },
    {
      "cell_type": "markdown",
      "metadata": {},
      "source": [
        "\n",
        "## �ܽ�\n",
        "����������ǽ�����ʿ�ٷ�����һ���ݼ������������Իع�ģ�͵Ļ�������Լ����ʹ��PaddlePaddleʵ��ѵ���Ͳ��ԵĹ��̡��ܶ��ģ�ͺͼ��ɶ��ǴӼ򵥵����Իع�ģ���ݻ����������Ū�������ģ�͵�ԭ��;��޷ǳ���Ҫ��\n",
        "\n",
        "\n",
        "## �ο�����\n",
        "1. https://en.wikipedia.org/wiki/Linear_regression\n",
        "2. Friedman J, Hastie T, Tibshirani R. The elements of statistical learning[M]. Springer, Berlin: Springer series in statistics, 2001.\n",
        "3. Murphy K P. Machine learning: a probabilistic perspective[M]. MIT press, 2012.\n",
        "4. Bishop C M. Pattern recognition[J]. Machine Learning, 2006, 128.\n",
        "\n",
        "\u003cbr/\u003e\n",
        "\u003ca rel=\"license\" href=\"http://creativecommons.org/licenses/by-sa/4.0/\"\u003e\u003cimg alt=\"֪ʶ�������Э��\" style=\"border-width:0\" src=\"https://i.creativecommons.org/l/by-sa/4.0/88x31.png\" /\u003e\u003c/a\u003e\u003cbr /\u003e\u003cspan xmlns:dct=\"http://purl.org/dc/terms/\" href=\"http://purl.org/dc/dcmitype/Text\" property=\"dct:title\" rel=\"dct:type\"\u003e���̳�\u003c/span\u003e �� \u003ca xmlns:cc=\"http://creativecommons.org/ns#\" href=\"http://book.paddlepaddle.org\" property=\"cc:attributionName\" rel=\"cc:attributionURL\"\u003ePaddlePaddle\u003c/a\u003e ���������� \u003ca rel=\"license\" href=\"http://creativecommons.org/licenses/by-sa/4.0/\"\u003e֪ʶ���� ����-��ͬ��ʽ���� 4.0 ���� ���Э��\u003c/a\u003e������ɡ�\n"
      ]
    }
  ],
  "metadata": {
    "kernelspec": {
      "display_name": "Python 3",
      "language": "python",
      "name": "python3"
    },
    "language_info": {
      "codemirror_mode": {
        "name": "ipython",
        "version": 3
      },
      "file_extension": ".py",
      "mimetype": "text/x-python",
      "name": "python",
      "nbconvert_exporter": "python",
      "pygments_lexer": "ipython3",
      "version": "3.6.0"
    }
  },
  "nbformat": 4,
  "nbformat_minor": 0
}

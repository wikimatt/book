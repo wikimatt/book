{
 "cells": [
  {
   "cell_type": "markdown",
   "metadata": {},
   "source": [
    "# 回归算法\n",
    "# 1、面试题：你写过什么回归代码啊?\n",
    "# 2、基本概念\n",
    "中学数学基本概念：相关、线性相关\n",
    "\n",
    "回归：对于相关的事物，通过一个预测另一个，就叫回归。\n",
    "\n",
    "分类：有些事物，事物和事物之间的分别比较显著，所以我们想明确事物间的分别，“明确事物间的分别”就是分类。\n",
    "\n",
    "\n",
    "相关：有些事物，事物和事物之间的相关性比较显著，所以我们想明确事物间的相关性，“明确事物间的相关性”就是相关分析。\n",
    "\n",
    "回归：有些事物，事物和事物之间的相关性比较显著，所以我们想明确事物间的相关性，并通过一个预测另一个。“明确事物间的相关性，并通过一个预测另一个”就是回归。叫“回归”是因为200年前提出这个概念的老外语文没学好。\n",
    "\n",
    "\n",
    "回归的应用场景：事物和事物之间的相关性比较显著。\n",
    "\n",
    "线性回归的应用场景：事物和事物之间的相关性近似于线性相关。\n",
    "\n",
    "\n",
    "### 线性回归\n",
    "举个栗子。房子是最大的支出。所以中国人关心房价，美国人也关心房价。如果我们知道房子的各种特征，比如房间数、学区等等，我们怎么预测房价呢？一个简单的方法就是线性相关性分析。\n",
    "\n",
    "我们假设房价和房子的特征是近似线性相关的。我们先快进，假设算法实现了，训练完成了，我们看看结果，如上图，x轴是实际房价，y轴是根据房价和房子特征的线性相关假设预测的房价。两者是近似的。\n",
    "\n",
    "注意，线性相关分析直观、简便，得到大量应用，而且是其它相关分析的基础。但更多的问题不是近似线性相关的，就得用别的方法了。\n",
    "\n",
    "那现在我们看一下根据房子的特征，根据线性相关假设，预测房价：\n",
    "## 我们复习一下中学数学里线性相关假设的描述：\n",
    "\n",
    "如果两个事物$x, y$是线性相关的，那么可以表示成： $y = \\omega x  + b$\n",
    "\n",
    "如果其中一个事物由一个特征向量 $\\{x_{1},x_{2}, ..., x_{n}\\}$ 表示，那么$x, y$的线性相关可以表示成：\n",
    "\n",
    "$y = \\omega_1x_{1} + \\omega_2x_{2} + \\ldots + \\omega_nx_{n} + b$\n",
    "\n",
    "所以，如果我们知道$\\{x_{1},x_{2}, ..., x_{n}\\}$，想预测 $y$ ，只需要知道参数 $\\omega_1, \\omega_2， \\ldots , \\omega_n, b$ 即可。\n",
    "\n",
    "我们上节课学过“练”（training）的方法来得到参数。我们复习一下，顺便照葫芦画瓢得到参数：\n",
    "\n",
    "1、采集数据，这个栗子是房子的特征数据。\n",
    "2、标注数据，这个栗子的实际房价。\n",
    "3、训练，见下面的代码。\n",
    "4、预测，通过测试用的房子的特征数据，预测房价\n",
    "\n",
    "\n",
    " \n",
    "本教程源代码目录在[book/fit_a_line](https://github.com/PaddlePaddle/book/tree/develop/01.fit_a_line)， 初次使用请参考PaddlePaddle[安装教程](https://github.com/PaddlePaddle/book/blob/develop/README.cn.md#运行这本书)，更多内容请参考本教程的[视频课堂](http://bit.baidu.com/course/detail/id/137.html)。\n",
    "\n",
    "### 第3步：训练\n",
    "#### 数学描述：\n",
    "给定一个大小为$n$的数据集  ${\\{y_{i}, x_{i1}, ..., x_{id}\\}}_{i=1}^{n}$，其中$x_{i1}, \\ldots, x_{id}$是第$i$个样本第$d$个属性上的取值，$y_i$是该样本待预测的目标。线性回归模型假设目标$y_i$可以被属性间的线性组合描述，即\n",
    "\n",
    "$$y_i = \\omega_1x_{i1} + \\omega_2x_{i2} + \\ldots + \\omega_dx_{id} + b,  i=1,\\ldots,n$$\n",
    "\n",
    "在我们的栗子里，$x_{ij}$是描述房子$i$的各种特征的值（比如房间的个数、周围学校和医院的个数、交通状况等），而 $y_i$是房价。\n",
    "\n",
    "\n",
    "### 效果展示\n",
    "我们的栗子用[美国UCI大学房子数据集](https://archive.ics.uci.edu/ml/datasets/Housing)里的波士顿数据来训练和预测。\n",
    "<p align=\"center\">\n",
    "    <img url = \"/housing.png\" width=400><br/>\n",
        "    \u003cimg src = \"image/predictions.png\" width=400\u003e\u003cbr/\u003e\n",
    "    图1. 预测值 V.S. 真实值\n",
    "</p>\n",
    "\n",
    "## 算法概览\n",
    "\n",
    "### 输入（数据集）、算法公式\n",
    "\n",
    "在波士顿数据集中，和房子相关的值共有14个：前13个用来描述房子特征，即算法中的 $x_i$；最后一个值是房价（的中位数），即算法中的 $y_i$。因此，我们的算法公式就可以表示成：\n",
    "\n",
    "$$\\hat{Y} = \\omega_1X_{1} + \\omega_2X_{2} + \\ldots + \\omega_{13}X_{13} + b$$\n",
    "\n",
    "$\\hat{Y}$ 表示预测结果，用来和真实值$Y$区分。要学习的参数即：$\\omega_1, \\ldots, \\omega_{13}, b$。\n",
    "\n",
    "### 预测的准确性、损失函数、均方误差\n",
    "\n",
    "和分类问题一样，不同的算法配置、不同的训练数据，预测的准确性是不一样的。预测值和实际值越接近，准确性越高。为了量化算法的准确性，我们可以使用损失函数（[Loss Function](https://en.wikipedia.org/wiki/Loss_function)，或Cost Function）。损失函数的特点是，输入任意一个数据样本的目标值$y_{i}$和模型给出的预测值$\\hat{y_{i}}$，损失函数输出一个非负的实值。这个实值通常用来反映模型误差的大小。\n",
    "\n",
    "对于线性回归模型来讲，最常见的损失函数就是均方误差（Mean Squared Error， [MSE](https://en.wikipedia.org/wiki/Mean_squared_error)）了，它的形式是：\n",
    "\n",
    "$$MSE=\\frac{1}{n}\\sum_{i=1}^{n}{(\\hat{Y_i}-Y_i)}^2$$\n",
    "\n",
    "即对于一个大小为$n$的测试集，$MSE$是$n$个数据预测结果误差平方的均值。\n",
    "\n",
    "### 训练过程\n",
    "\n",
    "定义好模型结构之后，我们要通过以下几个步骤进行模型训练\n",
    " 1. 初始化参数，其中包括权重$\\omega_i$和偏置$b$，对其进行初始化（如0均值，1方差）。\n",
    " 2. 网络正向传播计算网络输出和损失函数。\n",
    " 3. 根据损失函数进行反向误差传播 （[backpropagation](https://en.wikipedia.org/wiki/Backpropagation)），将网络误差从输出层依次向前传递, 并更新网络中的参数。\n",
    " 4. 重复2~3步骤，直至网络训练误差达到规定的程度或训练轮次达到设定值。\n",
    "\n",
    "# 3、一言不合上代码：\n",
    "\n",
    "### 输入（数据集）\n",
    "\n"
   ]
  },
  {
   "cell_type": "code",
   "execution_count": 1,
   "metadata": {
    "editable": true
   },
   "outputs": [
    {
     "name": "stdout",
     "output_type": "stream",
     "text": [
      "\n"
     ]
    }
   ],
   "source": [
    "import paddle.v2 as paddle\n",
    "import paddle.v2.dataset.uci_housing as uci_housing\n"
   ]
  },
  {
   "cell_type": "markdown",
   "metadata": {},
   "source": [
    "\n",
    "我们通过Paddlepaddle自带的uci_housing模块输入[波士顿房子数据集](https://archive.ics.uci.edu/ml/datasets/Housing)\n",
    "\n",
    "其中，在uci_housing模块中封装了：\n",
    "\n",
    "1. 数据下载的过程。下载数据保存在~/.cache/paddle/dataset/uci_housing/housing.data。\n",
    "2. [数据预处理](#数据预处理)的过程。\n",
    "\n",
    "\n",
    "### 数据集介绍\n",
    "这份数据集共506行，每行包含了波士顿郊区的一类房屋的相关信息及该类房屋价格的中位数。其各维属性的意义如下：\n",
    "\n",
    "| 属性名 | 解释 | 类型 |\n",
    "| ------| ------ | ------ |\n",
    "| CRIM | 该镇的人均犯罪率 | 连续值 |\n",
    "| ZN | 占地面积超过25,000平方呎的住宅用地比例 | 连续值 |\n",
    "| INDUS | 非零售商业用地比例 | 连续值 |\n",
    "| CHAS | 是否邻近 Charles River  | 离散值，1=邻近；0=不邻近 |\n",
    "| NOX | 一氧化氮浓度 | 连续值 |\n",
    "| RM | 每栋房屋的平均客房数 | 连续值 |\n",
    "| AGE | 1940年之前建成的自用单位比例 | 连续值 |\n",
    "| DIS | 到波士顿5个就业中心的加权距离 | 连续值 |\n",
    "| RAD | 到径向公路的可达性指数 | 连续值 |\n",
    "| TAX | 全值财产税率 | 连续值 |\n",
    "| PTRATIO | 学生与教师的比例 | 连续值 |\n",
    "| B | 1000(BK - 0.63)^2，其中BK为黑人占比 | 连续值 |\n",
    "| LSTAT | 低收入人群占比 | 连续值 |\n",
    "| MEDV | 同类房屋价格的中位数 | 连续值 |\n",
    "\n",
    "### 数据预处理\n",
    "#### 连续值与离散值\n",
    "观察一下数据，我们的第一个发现是：所有的13维属性中，有12维的连续值和1维的离散值（CHAS）。离散值虽然也常使用类似0、1、2这样的数字表示，但是其含义与连续值是不同的，因为这里的差值没有实际意义。例如，我们用0、1、2来分别表示红色、绿色和蓝色的话，我们并不能因此说“蓝色和红色”比“绿色和红色”的距离更远。所以通常对一个有$d$个可能取值的离散属性，我们会将它们转为$d$个取值为0或1的二值属性或者将每个可能取值映射为一个多维向量。不过就这里而言，因为CHAS本身就是一个二值属性，就省去了这个麻烦。\n",
    "\n",
    "#### 特征的归一化\n",
    "另外一个稍加观察即可发现的事实是，各维属性的取值范围差别很大（如图2所示）。例如，属性B的取值范围是[0.32, 396.90]，而属性NOX的取值范围是[0.3850, 0.8170]。这里就要用到一个常见的操作-归一化（normalization）了。归一化的目标是把各位属性的取值范围放缩到差不多的区间，例如[-0.5,0.5]。这里我们使用一种很常见的操作方法：减掉均值，然后除以原取值范围。\n",
    "\n",
    "做归一化（或 [Feature scaling](https://en.wikipedia.org/wiki/Feature_scaling)）至少有以下3个理由：\n",
    "- 过大或过小的数值范围会导致计算时的浮点上溢或下溢。\n",
    "- 不同的数值范围会导致不同属性对模型的重要性不同（至少在训练的初始阶段如此），而这个隐含的假设常常是不合理的。这会对优化的过程造成困难，使训练时间大大的加长。\n",
    "- 很多的机器学习技巧/模型（例如L1，L2正则项，向量空间模型-Vector Space Model）都基于这样的假设：所有的属性取值都差不多是以0为均值且取值范围相近的。\n",
    "\n",
    "<p align=\"center\">\n",
    "    <img src = \"image/ranges.png\" width=550><br/>\n",
    "    图2. 各维属性的取值范围\n",
    "</p>\n",
    "\n",
    "#### 整理训练集与测试集\n",
    "我们将数据集分割为两份：一份用于调整模型的参数，即进行模型的训练，模型在这份数据集上的误差被称为**训练误差**；另外一份被用来测试，模型在这份数据集上的误差被称为**测试误差**。我们训练模型的目的是为了通过从训练数据中找到规律来预测未知的新数据，所以测试误差是更能反映模型表现的指标。分割数据的比例要考虑到两个因素：更多的训练数据会降低参数估计的方差，从而得到更可信的模型；而更多的测试数据会降低测试误差的方差，从而得到更可信的测试误差。我们这个例子中设置的分割比例为$8:2$\n",
    "\n",
    "\n",
    "在更复杂的模型训练过程中，我们往往还会多使用一种数据集：验证集。因为复杂的模型中常常还有一些超参数（[Hyperparameter](https://en.wikipedia.org/wiki/Hyperparameter_optimization)）需要调节，所以我们会尝试多种超参数的组合来分别训练多个模型，然后对比它们在验证集上的表现选择相对最好的一组超参数，最后才使用这组参数下训练的模型在测试集上评估测试误差。由于本章训练的模型比较简单，我们暂且忽略掉这个过程。\n",
    "\n",
    "## 训练\n",
    "\n",
    "`fit_a_line/trainer.py`演示了训练的整体过程。\n",
    "\n",
    "### 初始化PaddlePaddle\n",
    "\n"
   ]
  },
  {
   "cell_type": "code",
   "execution_count": 1,
   "metadata": {
    "editable": true
   },
   "outputs": [
    {
     "name": "stdout",
     "output_type": "stream",
     "text": [
      "\n"
     ]
    }
   ],
   "source": [
    "paddle.init(use_gpu=False, trainer_count=1)\n"
   ]
  },
  {
   "cell_type": "markdown",
   "metadata": {},
   "source": [
    "\n",
    "### 算法配置\n",
    "\n",
    "Paddlepaddle里的算法基本都是神经网络算法。和Softmax算法一样，线性回归算法其实的模型其实就是一个采用线性激活函数（linear activation，`LinearActivation`）的全连接层（fully-connected layer，`fc_layer`）：\n",
    "\n"
   ]
  },
  {
   "cell_type": "code",
   "execution_count": 1,
   "metadata": {
    "editable": true
   },
   "outputs": [
    {
     "name": "stdout",
     "output_type": "stream",
     "text": [
      "\n"
     ]
    }
   ],
   "source": [
    "x = paddle.layer.data(name='x', type=paddle.data_type.dense_vector(13)) # 输入是x，13个元素的矢量\n",
    "y_predict = paddle.layer.fc(input=x,\n",
    "                                size=1,\n",
    "                                act=paddle.activation.Linear()) # 激活函数是线性的（注：线性激活函数不是典型的激活函数）\n",
    "y = paddle.layer.data(name='y', type=paddle.data_type.dense_vector(1)) # 标注是y\n",
    "cost = paddle.layer.square_error_cost(input=y_predict, label=y) # 损失函数是均方误差\n"
   ]
  },
  {
   "cell_type": "markdown",
   "metadata": {},
   "source": [
    "\n",
    "### 保存网络拓扑\n",
    "\n"
   ]
  },
  {
   "cell_type": "code",
   "execution_count": null,
   "metadata": {
    "editable": true
   },
   "outputs": [],
   "source": [
    "# Save the inference topology to protobuf.\n",
    "inference_topology = paddle.topology.Topology(layers=y_predict)\n",
    "with open(\"inference_topology.pkl\", 'wb') as f:\n",
    "    inference_topology.serialize_for_inference(f)\n"
   ]
  },
  {
   "cell_type": "markdown",
   "metadata": {},
   "source": [
    "\n",
    "### 创建参数\n",
    "\n"
   ]
  },
  {
   "cell_type": "code",
   "execution_count": 1,
   "metadata": {
    "editable": true
   },
   "outputs": [
    {
     "name": "stdout",
     "output_type": "stream",
     "text": [
      "\n"
     ]
    }
   ],
   "source": [
    "parameters = paddle.parameters.create(cost)\n"
   ]
  },
  {
   "cell_type": "markdown",
   "metadata": {},
   "source": [
    "\n",
    "### 创建Trainer\n",
    "\n"
   ]
  },
  {
   "cell_type": "code",
   "execution_count": 1,
   "metadata": {
    "editable": true
   },
   "outputs": [
    {
     "name": "stdout",
     "output_type": "stream",
     "text": [
      "\n"
     ]
    }
   ],
   "source": [
    "optimizer = paddle.optimizer.Momentum(momentum=0)\n",
    "\n",
    "trainer = paddle.trainer.SGD(cost=cost,\n",
    "                             parameters=parameters,\n",
    "                             update_equation=optimizer)\n"
   ]
  },
  {
   "cell_type": "markdown",
   "metadata": {},
   "source": [
    "\n",
    "### 读取数据且打印训练的中间信息\n",
    "\n",
    "PaddlePaddle提供一个\n",
    "[reader机制](https://github.com/PaddlePaddle/Paddle/tree/develop/doc/design/reader)\n",
    "来读取数据。 Reader返回的数据可以包括多列，我们需要一个Python dict把列\n",
    "序号映射到网络里的数据层。\n",
    "\n"
   ]
  },
  {
   "cell_type": "code",
   "execution_count": 1,
   "metadata": {
    "editable": true
   },
   "outputs": [
    {
     "name": "stdout",
     "output_type": "stream",
     "text": [
      "\n"
     ]
    }
   ],
   "source": [
    "feeding={'x': 0, 'y': 1}\n"
   ]
  },
  {
   "cell_type": "markdown",
   "metadata": {},
   "source": [
    "\n",
    "此外，我们还可以提供一个 event handler，来打印训练的进度：\n",
    "\n"
   ]
  },
  {
   "cell_type": "code",
   "execution_count": 1,
   "metadata": {
    "editable": true
   },
   "outputs": [
    {
     "name": "stdout",
     "output_type": "stream",
     "text": [
      "\n"
     ]
    }
   ],
   "source": [
    "# event_handler to print training and testing info\n",
    "def event_handler(event):\n",
    "    if isinstance(event, paddle.event.EndIteration):\n",
    "        if event.batch_id % 100 == 0:\n",
    "            print \"Pass %d, Batch %d, Cost %f\" % (\n",
    "                event.pass_id, event.batch_id, event.cost)\n",
    "\n",
    "    if isinstance(event, paddle.event.EndPass):\n",
    "        result = trainer.test(\n",
    "            reader=paddle.batch(\n",
    "                uci_housing.test(), batch_size=2),\n",
    "            feeding=feeding)\n",
    "        print \"Test %d, Cost %f\" % (event.pass_id, result.cost)\n"
   ]
  },
  {
   "cell_type": "markdown",
   "metadata": {},
   "source": [
    "\n"
   ]
  },
  {
   "cell_type": "code",
   "execution_count": 1,
   "metadata": {
    "editable": true
   },
   "outputs": [
    {
     "name": "stdout",
     "output_type": "stream",
     "text": [
      "\n"
     ]
    }
   ],
   "source": [
    "# event_handler to print training and testing info\n",
    "from paddle.v2.plot import Ploter\n",
    "\n",
    "train_title = \"Train cost\"\n",
    "test_title = \"Test cost\"\n",
    "cost_ploter = Ploter(train_title, test_title)\n",
    "\n",
    "step = 0\n",
    "\n",
    "def event_handler_plot(event):\n",
    "    global step\n",
    "    if isinstance(event, paddle.event.EndIteration):\n",
    "        if step % 10 == 0:  # every 10 batches, record a train cost\n",
    "            cost_ploter.append(train_title, step, event.cost)\n",
    "\n",
    "        if step % 100 == 0: # every 100 batches, record a test cost\n",
    "            result = trainer.test(\n",
    "                reader=paddle.batch(\n",
    "                    uci_housing.test(), batch_size=2),\n",
    "                feeding=feeding)\n",
    "            cost_ploter.append(test_title, step, result.cost)\n",
    "\n",
    "        if step % 100 == 0: # every 100 batches, update cost plot\n",
    "            cost_ploter.plot()\n",
    "\n",
    "        step += 1\n",
    "\n",
    "    if isinstance(event, paddle.event.EndPass):\n",
    "        if event.pass_id % 10 == 0:\n",
    "            with open('params_pass_%d.tar' % event.pass_id, 'w') as f:\n",
    "                trainer.save_parameter_to_tar(f)\n"
   ]
  },
  {
   "cell_type": "markdown",
   "metadata": {},
   "source": [
    "\n",
    "### 开始训练\n",
    "\n"
   ]
  },
  {
   "cell_type": "code",
   "execution_count": 1,
   "metadata": {
    "editable": true
   },
   "outputs": [
    {
     "name": "stdout",
     "output_type": "stream",
     "text": [
      "\n"
     ]
    }
   ],
   "source": [
    "trainer.train(\n",
    "    reader=paddle.batch(\n",
    "        paddle.reader.shuffle(\n",
    "            uci_housing.train(), buf_size=500),\n",
    "        batch_size=2),\n",
    "    feeding=feeding,\n",
    "    event_handler=event_handler_plot,\n",
    "    num_passes=30)\n"
   ]
  },
  {
   "cell_type": "markdown",
   "metadata": {},
   "source": [
    "\n",
    "![png](./image/train_and_test.png)\n",
    "\n",
    "### 应用模型\n",
    "\n",
    "#### 1. 生成测试数据\n",
    "\n"
   ]
  },
  {
   "cell_type": "code",
   "execution_count": 1,
   "metadata": {
    "editable": true
   },
   "outputs": [
    {
     "name": "stdout",
     "output_type": "stream",
     "text": [
      "\n"
     ]
    }
   ],
   "source": [
    "test_data_creator = paddle.dataset.uci_housing.test()\n",
    "test_data = []\n",
    "test_label = []\n",
    "\n",
    "for item in test_data_creator():\n",
    "    test_data.append((item[0],))\n",
    "    test_label.append(item[1])\n",
    "    if len(test_data) == 5:\n",
    "        break\n"
   ]
  },
  {
   "cell_type": "markdown",
   "metadata": {},
   "source": [
    "\n",
    "#### 2. 推测 inference\n",
    "\n"
   ]
  },
  {
   "cell_type": "code",
   "execution_count": 1,
   "metadata": {
    "editable": true
   },
   "outputs": [
    {
     "name": "stdout",
     "output_type": "stream",
     "text": [
      "\n"
     ]
    }
   ],
   "source": [
    "# load parameters from tar file.\n",
    "# users can remove the comments and change the model name\n",
    "# with open('params_pass_20.tar', 'r') as f:\n",
    "#     parameters = paddle.parameters.Parameters.from_tar(f)\n",
    "\n",
    "probs = paddle.infer(\n",
    "    output_layer=y_predict, parameters=parameters, input=test_data)\n",
    "\n",
    "for i in xrange(len(probs)):\n",
    "    print \"label=\" + str(test_label[i][0]) + \", predict=\" + str(probs[i][0])\n"
   ]
  },
  {
   "cell_type": "markdown",
   "metadata": {},
   "source": [
    "\n",
    "# 4、小结\n",
    "回归的概念\n",
    "\n",
    "回归的代码\n",
    "\n",
    "\n",
    "# 5、参考\n",
    "1. https://en.wikipedia.org/wiki/Linear_regression\n",
    "2. Friedman J, Hastie T, Tibshirani R. The elements of statistical learning[M]. Springer, Berlin: Springer series in statistics, 2001.\n",
    "3. Murphy K P. Machine learning: a probabilistic perspective[M]. MIT press, 2012.\n",
    "4. Bishop C M. Pattern recognition[J]. Machine Learning, 2006, 128.\n",
    "5. http://paddlepaddle.org/docs/develop/book/01.fit_a_line/index.cn.html\n",
    "\n",
    "<br/>\n",
    "<a rel=\"license\" href=\"http://creativecommons.org/licenses/by-sa/4.0/\"><img alt=\"知识共享许可协议\" style=\"border-width:0\" src=\"https://i.creativecommons.org/l/by-sa/4.0/88x31.png\" /></a><br />"
   ]
  },
  {
   "cell_type": "code",
   "execution_count": null,
   "metadata": {},
   "outputs": [],
   "source": []
  },
  {
   "cell_type": "code",
   "execution_count": null,
   "metadata": {},
   "outputs": [],
   "source": []
  }
 ],
 "metadata": {
  "kernelspec": {
   "display_name": "Python 3",
   "language": "python",
   "name": "python3"
  },
  "language_info": {
   "codemirror_mode": {
    "name": "ipython",
    "version": 3
   },
   "file_extension": ".py",
   "mimetype": "text/x-python",
   "name": "python",
   "nbconvert_exporter": "python",
   "pygments_lexer": "ipython3",
   "version": "3.6.5"
  }
 },
 "nbformat": 4,
 "nbformat_minor": 2
}
